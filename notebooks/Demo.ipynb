{
 "cells": [
  {
   "cell_type": "markdown",
   "metadata": {},
   "source": [
    "# Bedrock Python Demo"
   ]
  },
  {
   "cell_type": "markdown",
   "metadata": {},
   "source": [
    "The following is a demo of the Bedrock python package, used to ease the configuration of a Bedrock deployment using Python."
   ]
  },
  {
   "cell_type": "code",
   "execution_count": 1,
   "metadata": {},
   "outputs": [],
   "source": [
    "import sys\n",
    "sys.path.append('/projects/mochi/py-bedrock') # use the local source of py-mochi-bedrock\n",
    "sys.path.append('/projects/mochi/py-bedrock/build/lib.linux-x86_64-3.7')"
   ]
  },
  {
   "cell_type": "markdown",
   "metadata": {},
   "source": [
    "## Getting started"
   ]
  },
  {
   "cell_type": "markdown",
   "metadata": {},
   "source": [
    "The root of a Bedrock configuration is a `ProcSpec`, defined in the `bedrock.spec` package. It defines everything we want to run on a process."
   ]
  },
  {
   "cell_type": "code",
   "execution_count": 2,
   "metadata": {},
   "outputs": [],
   "source": [
    "import bedrock.spec"
   ]
  },
  {
   "cell_type": "markdown",
   "metadata": {},
   "source": [
    "We can create a `ProcSpec` using a single `margo` key specifying the protocol we want to use."
   ]
  },
  {
   "cell_type": "code",
   "execution_count": 3,
   "metadata": {},
   "outputs": [],
   "source": [
    "my_process = bedrock.spec.ProcSpec(margo='na+sm')"
   ]
  },
  {
   "cell_type": "markdown",
   "metadata": {},
   "source": [
    "All the specification objects have a `to_json()` method to generate their JSON configuration. Let's look at our `proc`'s configuration:"
   ]
  },
  {
   "cell_type": "code",
   "execution_count": 4,
   "metadata": {},
   "outputs": [
    {
     "name": "stdout",
     "output_type": "stream",
     "text": [
      "{\n",
      "    \"margo\": {\n",
      "        \"progress_timeout_ub_msec\": 100,\n",
      "        \"enable_profiling\": false,\n",
      "        \"enable_diagnostics\": false,\n",
      "        \"handle_cache_size\": 32,\n",
      "        \"profile_sparkline_timeslice_msec\": 1000,\n",
      "        \"argobots\": {\n",
      "            \"abt_mem_max_num_stacks\": 8,\n",
      "            \"abt_thread_stacksize\": 2097152,\n",
      "            \"version\": \"unknown\",\n",
      "            \"pools\": [\n",
      "                {\n",
      "                    \"name\": \"__primary__\",\n",
      "                    \"kind\": \"fifo_wait\",\n",
      "                    \"access\": \"mpmc\"\n",
      "                }\n",
      "            ],\n",
      "            \"xstreams\": [\n",
      "                {\n",
      "                    \"name\": \"__primary__\",\n",
      "                    \"cpubind\": -1,\n",
      "                    \"affinity\": [],\n",
      "                    \"scheduler\": {\n",
      "                        \"type\": \"basic_wait\",\n",
      "                        \"pools\": [\n",
      "                            \"__primary__\"\n",
      "                        ]\n",
      "                    }\n",
      "                }\n",
      "            ]\n",
      "        },\n",
      "        \"mercury\": {\n",
      "            \"address\": \"na+sm\",\n",
      "            \"listening\": true,\n",
      "            \"ip_subnet\": \"\",\n",
      "            \"auth_key\": \"\",\n",
      "            \"auto_sm\": false,\n",
      "            \"max_contexts\": 1,\n",
      "            \"na_no_block\": false,\n",
      "            \"na_no_retry\": false,\n",
      "            \"no_bulk_eager\": false,\n",
      "            \"no_loopback\": false,\n",
      "            \"request_post_incr\": 256,\n",
      "            \"request_post_init\": 256,\n",
      "            \"stats\": false,\n",
      "            \"version\": \"unknown\"\n",
      "        },\n",
      "        \"progress_pool\": \"__primary__\",\n",
      "        \"rpc_pool\": \"__primary__\"\n",
      "    },\n",
      "    \"abt_io\": [],\n",
      "    \"ssg\": [],\n",
      "    \"libraries\": {},\n",
      "    \"providers\": [],\n",
      "    \"bedrock\": {\n",
      "        \"pool\": \"__primary__\",\n",
      "        \"provider_id\": 0\n",
      "    }\n",
      "}\n"
     ]
    }
   ],
   "source": [
    "print(my_process.to_json(indent=4))"
   ]
  },
  {
   "cell_type": "markdown",
   "metadata": {},
   "source": [
    "Py-bedrock gives us a very simple way of accessing sub-configurations. Objects that have a name can be accessed using their name or their index in the list that contains them. For example, accessing Argobots' primary pool:"
   ]
  },
  {
   "cell_type": "code",
   "execution_count": 5,
   "metadata": {},
   "outputs": [
    {
     "name": "stdout",
     "output_type": "stream",
     "text": [
      "PoolSpec(name='__primary__', kind='fifo_wait', access='mpmc')\n",
      "PoolSpec(name='__primary__', kind='fifo_wait', access='mpmc')\n"
     ]
    }
   ],
   "source": [
    "print(my_process.margo.argobots.pools['__primary__'])\n",
    "print(my_process.margo.argobots.pools[0])"
   ]
  },
  {
   "cell_type": "markdown",
   "metadata": {},
   "source": [
    "Let's customize our process a little more. What about defining a pool for RPCs to run on, along with a few execution streams using that pool?"
   ]
  },
  {
   "cell_type": "code",
   "execution_count": 6,
   "metadata": {},
   "outputs": [],
   "source": [
    "# Create the new pool, it will be added automatically to the process\n",
    "my_rpc_pool = my_process.margo.argobots.pools.add(name='my_rpc_pool', kind='fifo', access='mpmc')\n",
    "# Create two execution streams using that pool\n",
    "for i in range(0,4):\n",
    "    sched = bedrock.spec.SchedulerSpec(type='basic', pools=[my_rpc_pool])\n",
    "    my_process.margo.argobots.xstreams.add(name=f'my_xstream_{i}', scheduler=sched)\n",
    "# Now let's set the pools we want for handling RPCs\n",
    "my_process.margo.rpc_pool = my_rpc_pool"
   ]
  },
  {
   "cell_type": "markdown",
   "metadata": {},
   "source": [
    "Let's now print the resulting configuration:"
   ]
  },
  {
   "cell_type": "code",
   "execution_count": 7,
   "metadata": {},
   "outputs": [
    {
     "name": "stdout",
     "output_type": "stream",
     "text": [
      "{\n",
      "    \"margo\": {\n",
      "        \"progress_timeout_ub_msec\": 100,\n",
      "        \"enable_profiling\": false,\n",
      "        \"enable_diagnostics\": false,\n",
      "        \"handle_cache_size\": 32,\n",
      "        \"profile_sparkline_timeslice_msec\": 1000,\n",
      "        \"argobots\": {\n",
      "            \"abt_mem_max_num_stacks\": 8,\n",
      "            \"abt_thread_stacksize\": 2097152,\n",
      "            \"version\": \"unknown\",\n",
      "            \"pools\": [\n",
      "                {\n",
      "                    \"name\": \"__primary__\",\n",
      "                    \"kind\": \"fifo_wait\",\n",
      "                    \"access\": \"mpmc\"\n",
      "                },\n",
      "                {\n",
      "                    \"name\": \"my_rpc_pool\",\n",
      "                    \"kind\": \"fifo\",\n",
      "                    \"access\": \"mpmc\"\n",
      "                }\n",
      "            ],\n",
      "            \"xstreams\": [\n",
      "                {\n",
      "                    \"name\": \"__primary__\",\n",
      "                    \"cpubind\": -1,\n",
      "                    \"affinity\": [],\n",
      "                    \"scheduler\": {\n",
      "                        \"type\": \"basic_wait\",\n",
      "                        \"pools\": [\n",
      "                            \"__primary__\"\n",
      "                        ]\n",
      "                    }\n",
      "                },\n",
      "                {\n",
      "                    \"name\": \"my_xstream_0\",\n",
      "                    \"cpubind\": -1,\n",
      "                    \"affinity\": [],\n",
      "                    \"scheduler\": {\n",
      "                        \"type\": \"basic\",\n",
      "                        \"pools\": [\n",
      "                            \"my_rpc_pool\"\n",
      "                        ]\n",
      "                    }\n",
      "                },\n",
      "                {\n",
      "                    \"name\": \"my_xstream_1\",\n",
      "                    \"cpubind\": -1,\n",
      "                    \"affinity\": [],\n",
      "                    \"scheduler\": {\n",
      "                        \"type\": \"basic\",\n",
      "                        \"pools\": [\n",
      "                            \"my_rpc_pool\"\n",
      "                        ]\n",
      "                    }\n",
      "                },\n",
      "                {\n",
      "                    \"name\": \"my_xstream_2\",\n",
      "                    \"cpubind\": -1,\n",
      "                    \"affinity\": [],\n",
      "                    \"scheduler\": {\n",
      "                        \"type\": \"basic\",\n",
      "                        \"pools\": [\n",
      "                            \"my_rpc_pool\"\n",
      "                        ]\n",
      "                    }\n",
      "                },\n",
      "                {\n",
      "                    \"name\": \"my_xstream_3\",\n",
      "                    \"cpubind\": -1,\n",
      "                    \"affinity\": [],\n",
      "                    \"scheduler\": {\n",
      "                        \"type\": \"basic\",\n",
      "                        \"pools\": [\n",
      "                            \"my_rpc_pool\"\n",
      "                        ]\n",
      "                    }\n",
      "                }\n",
      "            ]\n",
      "        },\n",
      "        \"mercury\": {\n",
      "            \"address\": \"na+sm\",\n",
      "            \"listening\": true,\n",
      "            \"ip_subnet\": \"\",\n",
      "            \"auth_key\": \"\",\n",
      "            \"auto_sm\": false,\n",
      "            \"max_contexts\": 1,\n",
      "            \"na_no_block\": false,\n",
      "            \"na_no_retry\": false,\n",
      "            \"no_bulk_eager\": false,\n",
      "            \"no_loopback\": false,\n",
      "            \"request_post_incr\": 256,\n",
      "            \"request_post_init\": 256,\n",
      "            \"stats\": false,\n",
      "            \"version\": \"unknown\"\n",
      "        },\n",
      "        \"progress_pool\": \"__primary__\",\n",
      "        \"rpc_pool\": \"my_rpc_pool\"\n",
      "    },\n",
      "    \"abt_io\": [],\n",
      "    \"ssg\": [],\n",
      "    \"libraries\": {},\n",
      "    \"providers\": [],\n",
      "    \"bedrock\": {\n",
      "        \"pool\": \"__primary__\",\n",
      "        \"provider_id\": 0\n",
      "    }\n",
      "}\n"
     ]
    }
   ],
   "source": [
    "print(my_process.to_json(indent=4))"
   ]
  },
  {
   "cell_type": "markdown",
   "metadata": {},
   "source": [
    "## Adding ABT-IO instances\n",
    "\n",
    "Let's add an ABT-IO instance."
   ]
  },
  {
   "cell_type": "code",
   "execution_count": 8,
   "metadata": {},
   "outputs": [
    {
     "data": {
      "text/plain": [
       "AbtIOSpec(name='my_abtio', pool=PoolSpec(name='my_rpc_pool', kind='fifo', access='mpmc'))"
      ]
     },
     "execution_count": 8,
     "metadata": {},
     "output_type": "execute_result"
    }
   ],
   "source": [
    "my_process.abt_io.add(name='my_abtio', pool=my_rpc_pool)"
   ]
  },
  {
   "cell_type": "markdown",
   "metadata": {},
   "source": [
    "## Adding SSG groups\n",
    "Let's add an SSG group."
   ]
  },
  {
   "cell_type": "code",
   "execution_count": 9,
   "metadata": {},
   "outputs": [
    {
     "data": {
      "text/plain": [
       "SSGSpec(name='my_group', pool=PoolSpec(name='my_rpc_pool', kind='fifo', access='mpmc'), credential=-1, bootstrap='init', group_file='my_group.ssg', swim=SwimSpec(period_length_ms=1000, suspect_timeout_periods=3, subgroup_member_count=0, disabled=False))"
      ]
     },
     "execution_count": 9,
     "metadata": {},
     "output_type": "execute_result"
    }
   ],
   "source": [
    "swim_config = bedrock.spec.SwimSpec(\n",
    "    period_length_ms=1000,\n",
    "    suspect_timeout_periods=3,\n",
    "    subgroup_member_count=0,\n",
    "    disabled=False)\n",
    "\n",
    "my_process.ssg.add(name='my_group',\n",
    "                   swim=swim_config,\n",
    "                   bootstrap='init',\n",
    "                   group_file='my_group.ssg',\n",
    "                   pool=my_rpc_pool)"
   ]
  },
  {
   "cell_type": "code",
   "execution_count": 10,
   "metadata": {},
   "outputs": [
    {
     "name": "stdout",
     "output_type": "stream",
     "text": [
      "{\n",
      "    \"margo\": {\n",
      "        \"progress_timeout_ub_msec\": 100,\n",
      "        \"enable_profiling\": false,\n",
      "        \"enable_diagnostics\": false,\n",
      "        \"handle_cache_size\": 32,\n",
      "        \"profile_sparkline_timeslice_msec\": 1000,\n",
      "        \"argobots\": {\n",
      "            \"abt_mem_max_num_stacks\": 8,\n",
      "            \"abt_thread_stacksize\": 2097152,\n",
      "            \"version\": \"unknown\",\n",
      "            \"pools\": [\n",
      "                {\n",
      "                    \"name\": \"__primary__\",\n",
      "                    \"kind\": \"fifo_wait\",\n",
      "                    \"access\": \"mpmc\"\n",
      "                },\n",
      "                {\n",
      "                    \"name\": \"my_rpc_pool\",\n",
      "                    \"kind\": \"fifo\",\n",
      "                    \"access\": \"mpmc\"\n",
      "                }\n",
      "            ],\n",
      "            \"xstreams\": [\n",
      "                {\n",
      "                    \"name\": \"__primary__\",\n",
      "                    \"cpubind\": -1,\n",
      "                    \"affinity\": [],\n",
      "                    \"scheduler\": {\n",
      "                        \"type\": \"basic_wait\",\n",
      "                        \"pools\": [\n",
      "                            \"__primary__\"\n",
      "                        ]\n",
      "                    }\n",
      "                },\n",
      "                {\n",
      "                    \"name\": \"my_xstream_0\",\n",
      "                    \"cpubind\": -1,\n",
      "                    \"affinity\": [],\n",
      "                    \"scheduler\": {\n",
      "                        \"type\": \"basic\",\n",
      "                        \"pools\": [\n",
      "                            \"my_rpc_pool\"\n",
      "                        ]\n",
      "                    }\n",
      "                },\n",
      "                {\n",
      "                    \"name\": \"my_xstream_1\",\n",
      "                    \"cpubind\": -1,\n",
      "                    \"affinity\": [],\n",
      "                    \"scheduler\": {\n",
      "                        \"type\": \"basic\",\n",
      "                        \"pools\": [\n",
      "                            \"my_rpc_pool\"\n",
      "                        ]\n",
      "                    }\n",
      "                },\n",
      "                {\n",
      "                    \"name\": \"my_xstream_2\",\n",
      "                    \"cpubind\": -1,\n",
      "                    \"affinity\": [],\n",
      "                    \"scheduler\": {\n",
      "                        \"type\": \"basic\",\n",
      "                        \"pools\": [\n",
      "                            \"my_rpc_pool\"\n",
      "                        ]\n",
      "                    }\n",
      "                },\n",
      "                {\n",
      "                    \"name\": \"my_xstream_3\",\n",
      "                    \"cpubind\": -1,\n",
      "                    \"affinity\": [],\n",
      "                    \"scheduler\": {\n",
      "                        \"type\": \"basic\",\n",
      "                        \"pools\": [\n",
      "                            \"my_rpc_pool\"\n",
      "                        ]\n",
      "                    }\n",
      "                }\n",
      "            ]\n",
      "        },\n",
      "        \"mercury\": {\n",
      "            \"address\": \"na+sm\",\n",
      "            \"listening\": true,\n",
      "            \"ip_subnet\": \"\",\n",
      "            \"auth_key\": \"\",\n",
      "            \"auto_sm\": false,\n",
      "            \"max_contexts\": 1,\n",
      "            \"na_no_block\": false,\n",
      "            \"na_no_retry\": false,\n",
      "            \"no_bulk_eager\": false,\n",
      "            \"no_loopback\": false,\n",
      "            \"request_post_incr\": 256,\n",
      "            \"request_post_init\": 256,\n",
      "            \"stats\": false,\n",
      "            \"version\": \"unknown\"\n",
      "        },\n",
      "        \"progress_pool\": \"__primary__\",\n",
      "        \"rpc_pool\": \"my_rpc_pool\"\n",
      "    },\n",
      "    \"abt_io\": [\n",
      "        {\n",
      "            \"name\": \"my_abtio\",\n",
      "            \"pool\": \"my_rpc_pool\"\n",
      "        }\n",
      "    ],\n",
      "    \"ssg\": [\n",
      "        {\n",
      "            \"name\": \"my_group\",\n",
      "            \"pool\": \"my_rpc_pool\",\n",
      "            \"credential\": -1,\n",
      "            \"bootstrap\": \"init\",\n",
      "            \"group_file\": \"my_group.ssg\",\n",
      "            \"swim\": {\n",
      "                \"period_length_ms\": 1000,\n",
      "                \"suspect_timeout_periods\": 3,\n",
      "                \"subgroup_member_count\": 0,\n",
      "                \"disabled\": false\n",
      "            }\n",
      "        }\n",
      "    ],\n",
      "    \"libraries\": {},\n",
      "    \"providers\": [],\n",
      "    \"bedrock\": {\n",
      "        \"pool\": \"__primary__\",\n",
      "        \"provider_id\": 0\n",
      "    }\n",
      "}\n"
     ]
    }
   ],
   "source": [
    "print(my_process.to_json(indent=4))"
   ]
  },
  {
   "cell_type": "markdown",
   "metadata": {},
   "source": [
    "## Adding providers"
   ]
  },
  {
   "cell_type": "markdown",
   "metadata": {},
   "source": [
    "First we need to add module libraries for our providers."
   ]
  },
  {
   "cell_type": "code",
   "execution_count": 11,
   "metadata": {},
   "outputs": [],
   "source": [
    "my_process.libraries['module_a'] = '/projects/mochi/bedrock/build/examples/libexample-module-a.so'\n",
    "my_process.libraries['module_b'] = '/projects/mochi/bedrock/build/examples/libexample-module-b.so'"
   ]
  },
  {
   "cell_type": "markdown",
   "metadata": {},
   "source": [
    "Now let's add providers. Py-bedrock has no idea what dependencies are required by providers of each module, to you need to make sure the dependencies and configurations are correct on your own."
   ]
  },
  {
   "cell_type": "code",
   "execution_count": 12,
   "metadata": {},
   "outputs": [
    {
     "data": {
      "text/plain": [
       "ProviderSpec(name='ProviderB', type='module_b', pool=PoolSpec(name='my_rpc_pool', kind='fifo', access='mpmc'), provider_id=33, config={}, dependencies={'ssg_group': 'my_group', 'a_provider': 'module_a:42', 'a_local': ['ProviderA@ssg://my_group/0'], 'a_client': 'module_a:client'})"
      ]
     },
     "execution_count": 12,
     "metadata": {},
     "output_type": "execute_result"
    }
   ],
   "source": [
    "my_process.providers.add(\n",
    "    name='ProviderA',\n",
    "    type='module_a',\n",
    "    provider_id=42,\n",
    "    pool=my_rpc_pool,\n",
    "    config={},\n",
    "    dependencies={})\n",
    "\n",
    "my_process.providers.add(\n",
    "    name='ProviderB',\n",
    "    type='module_b',\n",
    "    provider_id=33,\n",
    "    pool=my_rpc_pool,\n",
    "    config={},\n",
    "    dependencies={\n",
    "        \"ssg_group\" : 'my_group',\n",
    "        \"a_provider\" : \"module_a:42\",\n",
    "        \"a_local\" : [ \"ProviderA@ssg://my_group/0\" ],\n",
    "        \"a_client\" : \"module_a:client\"\n",
    "    })"
   ]
  },
  {
   "cell_type": "code",
   "execution_count": 13,
   "metadata": {},
   "outputs": [
    {
     "name": "stdout",
     "output_type": "stream",
     "text": [
      "{\n",
      "    \"margo\": {\n",
      "        \"progress_timeout_ub_msec\": 100,\n",
      "        \"enable_profiling\": false,\n",
      "        \"enable_diagnostics\": false,\n",
      "        \"handle_cache_size\": 32,\n",
      "        \"profile_sparkline_timeslice_msec\": 1000,\n",
      "        \"argobots\": {\n",
      "            \"abt_mem_max_num_stacks\": 8,\n",
      "            \"abt_thread_stacksize\": 2097152,\n",
      "            \"version\": \"unknown\",\n",
      "            \"pools\": [\n",
      "                {\n",
      "                    \"name\": \"__primary__\",\n",
      "                    \"kind\": \"fifo_wait\",\n",
      "                    \"access\": \"mpmc\"\n",
      "                },\n",
      "                {\n",
      "                    \"name\": \"my_rpc_pool\",\n",
      "                    \"kind\": \"fifo\",\n",
      "                    \"access\": \"mpmc\"\n",
      "                }\n",
      "            ],\n",
      "            \"xstreams\": [\n",
      "                {\n",
      "                    \"name\": \"__primary__\",\n",
      "                    \"cpubind\": -1,\n",
      "                    \"affinity\": [],\n",
      "                    \"scheduler\": {\n",
      "                        \"type\": \"basic_wait\",\n",
      "                        \"pools\": [\n",
      "                            \"__primary__\"\n",
      "                        ]\n",
      "                    }\n",
      "                },\n",
      "                {\n",
      "                    \"name\": \"my_xstream_0\",\n",
      "                    \"cpubind\": -1,\n",
      "                    \"affinity\": [],\n",
      "                    \"scheduler\": {\n",
      "                        \"type\": \"basic\",\n",
      "                        \"pools\": [\n",
      "                            \"my_rpc_pool\"\n",
      "                        ]\n",
      "                    }\n",
      "                },\n",
      "                {\n",
      "                    \"name\": \"my_xstream_1\",\n",
      "                    \"cpubind\": -1,\n",
      "                    \"affinity\": [],\n",
      "                    \"scheduler\": {\n",
      "                        \"type\": \"basic\",\n",
      "                        \"pools\": [\n",
      "                            \"my_rpc_pool\"\n",
      "                        ]\n",
      "                    }\n",
      "                },\n",
      "                {\n",
      "                    \"name\": \"my_xstream_2\",\n",
      "                    \"cpubind\": -1,\n",
      "                    \"affinity\": [],\n",
      "                    \"scheduler\": {\n",
      "                        \"type\": \"basic\",\n",
      "                        \"pools\": [\n",
      "                            \"my_rpc_pool\"\n",
      "                        ]\n",
      "                    }\n",
      "                },\n",
      "                {\n",
      "                    \"name\": \"my_xstream_3\",\n",
      "                    \"cpubind\": -1,\n",
      "                    \"affinity\": [],\n",
      "                    \"scheduler\": {\n",
      "                        \"type\": \"basic\",\n",
      "                        \"pools\": [\n",
      "                            \"my_rpc_pool\"\n",
      "                        ]\n",
      "                    }\n",
      "                }\n",
      "            ]\n",
      "        },\n",
      "        \"mercury\": {\n",
      "            \"address\": \"na+sm\",\n",
      "            \"listening\": true,\n",
      "            \"ip_subnet\": \"\",\n",
      "            \"auth_key\": \"\",\n",
      "            \"auto_sm\": false,\n",
      "            \"max_contexts\": 1,\n",
      "            \"na_no_block\": false,\n",
      "            \"na_no_retry\": false,\n",
      "            \"no_bulk_eager\": false,\n",
      "            \"no_loopback\": false,\n",
      "            \"request_post_incr\": 256,\n",
      "            \"request_post_init\": 256,\n",
      "            \"stats\": false,\n",
      "            \"version\": \"unknown\"\n",
      "        },\n",
      "        \"progress_pool\": \"__primary__\",\n",
      "        \"rpc_pool\": \"my_rpc_pool\"\n",
      "    },\n",
      "    \"abt_io\": [\n",
      "        {\n",
      "            \"name\": \"my_abtio\",\n",
      "            \"pool\": \"my_rpc_pool\"\n",
      "        }\n",
      "    ],\n",
      "    \"ssg\": [\n",
      "        {\n",
      "            \"name\": \"my_group\",\n",
      "            \"pool\": \"my_rpc_pool\",\n",
      "            \"credential\": -1,\n",
      "            \"bootstrap\": \"init\",\n",
      "            \"group_file\": \"my_group.ssg\",\n",
      "            \"swim\": {\n",
      "                \"period_length_ms\": 1000,\n",
      "                \"suspect_timeout_periods\": 3,\n",
      "                \"subgroup_member_count\": 0,\n",
      "                \"disabled\": false\n",
      "            }\n",
      "        }\n",
      "    ],\n",
      "    \"libraries\": {\n",
      "        \"module_a\": \"/projects/mochi/bedrock/build/examples/libexample-module-a.so\",\n",
      "        \"module_b\": \"/projects/mochi/bedrock/build/examples/libexample-module-b.so\"\n",
      "    },\n",
      "    \"providers\": [\n",
      "        {\n",
      "            \"name\": \"ProviderA\",\n",
      "            \"type\": \"module_a\",\n",
      "            \"pool\": \"my_rpc_pool\",\n",
      "            \"provider_id\": 42,\n",
      "            \"dependencies\": {},\n",
      "            \"config\": {}\n",
      "        },\n",
      "        {\n",
      "            \"name\": \"ProviderB\",\n",
      "            \"type\": \"module_b\",\n",
      "            \"pool\": \"my_rpc_pool\",\n",
      "            \"provider_id\": 33,\n",
      "            \"dependencies\": {\n",
      "                \"ssg_group\": \"my_group\",\n",
      "                \"a_provider\": \"module_a:42\",\n",
      "                \"a_local\": [\n",
      "                    \"ProviderA@ssg://my_group/0\"\n",
      "                ],\n",
      "                \"a_client\": \"module_a:client\"\n",
      "            },\n",
      "            \"config\": {}\n",
      "        }\n",
      "    ],\n",
      "    \"bedrock\": {\n",
      "        \"pool\": \"__primary__\",\n",
      "        \"provider_id\": 0\n",
      "    }\n",
      "}\n"
     ]
    }
   ],
   "source": [
    "print(my_process.to_json(indent=4))"
   ]
  },
  {
   "cell_type": "markdown",
   "metadata": {},
   "source": [
    "## Deploying the service\n",
    "We may now deploy the service using a platform-specific `deploy` function."
   ]
  },
  {
   "cell_type": "code",
   "execution_count": 14,
   "metadata": {},
   "outputs": [
    {
     "name": "stdout",
     "output_type": "stream",
     "text": [
      "[2020-12-01 18:35:22.784] [warning] Overriding field \"mercury.version\" (\"unknown\") with value \"2.0.0\"\n",
      "[2020-12-01 18:35:22.793] [warning] Overriding field \"argobots.version\" (\"unknown\") with value \"1.0\"\n",
      "[2020-12-01 18:35:22.796] [warning] ABT_xstream_get_cpubind failed to get cpubind (ret = 51)\n",
      "[2020-12-01 18:35:22.807] [warning] ABT_xstream_get_affinity failed to get affinity (ret = 51)\n",
      "[2020-12-01 18:35:22.807] [warning] ABT_xstream_get_cpubind failed to get cpubind (ret = 51)\n",
      "[2020-12-01 18:35:22.807] [warning] ABT_xstream_get_affinity failed to get affinity (ret = 51)\n",
      "[2020-12-01 18:35:22.807] [warning] ABT_xstream_get_cpubind failed to get cpubind (ret = 51)\n",
      "[2020-12-01 18:35:22.807] [warning] ABT_xstream_get_affinity failed to get affinity (ret = 51)\n",
      "[2020-12-01 18:35:22.808] [warning] ABT_xstream_get_cpubind failed to get cpubind (ret = 51)\n",
      "[2020-12-01 18:35:22.808] [warning] ABT_xstream_get_affinity failed to get affinity (ret = 51)\n",
      "[2020-12-01 18:35:22.808] [warning] ABT_xstream_get_cpubind failed to get cpubind (ret = 51)\n",
      "[2020-12-01 18:35:22.808] [warning] ABT_xstream_get_affinity failed to get affinity (ret = 51)\n",
      "Registered a provider from module A\n",
      " -> mid         = 0x5641516d00d0\n",
      " -> provider id = 42\n",
      " -> pool        = 0x56415102c2c0\n",
      " -> config      = {}\n",
      " -> name        = ProviderA\n",
      "Registered a client from module A\n",
      " -> mid = 0x5641516d00d0\n",
      "Created provider handle from module A\n",
      "Registering a provider from module B\n",
      " -> mid         = 0x5641516d00d0\n",
      " -> provider_id = 33\n",
      " -> pool        = 0x56415102c2c0\n",
      " -> config      = {}\n",
      " -> name        = ProviderB\n",
      "Destroyed provider handle from module A\n",
      "[2020-12-01 18:35:22.811] [info] Bedrock daemon now running at na+sm://7703/0\n"
     ]
    }
   ],
   "source": [
    "import bedrock.local\n",
    "bedrock.local.deploy(my_process, output=True, daemon=True)"
   ]
  },
  {
   "cell_type": "markdown",
   "metadata": {},
   "source": [
    "## Accessing the service using a client"
   ]
  },
  {
   "cell_type": "code",
   "execution_count": 15,
   "metadata": {},
   "outputs": [],
   "source": [
    "import bedrock.client"
   ]
  },
  {
   "cell_type": "code",
   "execution_count": 16,
   "metadata": {},
   "outputs": [
    {
     "data": {
      "text/plain": [
       "'{\"abt_io\":[{\"name\":\"my_abtio\",\"pool\":\"my_rpc_pool\"}],\"bedrock\":{\"pool\":\"__primary__\",\"provider_id\":0},\"libraries\":{\"module_a\":\"/projects/mochi/bedrock/build/examples/libexample-module-a.so\",\"module_b\":\"/projects/mochi/bedrock/build/examples/libexample-module-b.so\"},\"margo\":{\"argobots\":{\"abt_mem_max_num_stacks\":8,\"abt_thread_stacksize\":2097152,\"pools\":[{\"access\":\"mpmc\",\"kind\":\"fifo_wait\",\"name\":\"__primary__\"},{\"access\":\"mpmc\",\"kind\":\"fifo\",\"name\":\"my_rpc_pool\"}],\"version\":\"1.0\",\"xstreams\":[{\"affinity\":[],\"cpubind\":-1,\"name\":\"__primary__\",\"scheduler\":{\"pools\":[0],\"type\":\"basic_wait\"}},{\"affinity\":[],\"cpubind\":-1,\"name\":\"my_xstream_0\",\"scheduler\":{\"pools\":[1],\"type\":\"basic\"}},{\"affinity\":[],\"cpubind\":-1,\"name\":\"my_xstream_1\",\"scheduler\":{\"pools\":[1],\"type\":\"basic\"}},{\"affinity\":[],\"cpubind\":-1,\"name\":\"my_xstream_2\",\"scheduler\":{\"pools\":[1],\"type\":\"basic\"}},{\"affinity\":[],\"cpubind\":-1,\"name\":\"my_xstream_3\",\"scheduler\":{\"pools\":[1],\"type\":\"basic\"}}]},\"enable_diagnostics\":false,\"enable_profiling\":false,\"handle_cache_size\":32,\"mercury\":{\"address\":\"na+sm://7703/0\",\"auth_key\":\"\",\"auto_sm\":false,\"ip_subnet\":\"\",\"listening\":true,\"max_contexts\":1,\"na_no_block\":false,\"na_no_retry\":false,\"no_bulk_eager\":false,\"no_loopback\":false,\"request_post_incr\":256,\"request_post_init\":256,\"stats\":false,\"version\":\"2.0.0\"},\"profile_sparkline_timeslice_msec\":1000,\"progress_pool\":0,\"progress_timeout_ub_msec\":100,\"rpc_pool\":1},\"providers\":[{\"config\":{},\"dependencies\":{},\"name\":\"ProviderA\",\"pool\":\"my_rpc_pool\",\"provider_id\":42,\"type\":\"module_a\"},{\"config\":{},\"dependencies\":{\"a_client\":\"module_a:client\",\"a_local\":[\"module_a:42@na+sm://7703/0\"],\"a_provider\":\"module_a:42\",\"ssg_group\":\"my_group\"},\"name\":\"ProviderB\",\"pool\":\"my_rpc_pool\",\"provider_id\":33,\"type\":\"module_b\"}],\"ssg\":[{\"bootstrap\":\"init\",\"credential\":-1,\"group_file\":\"my_group.ssg\",\"name\":\"my_group\",\"pool\":\"my_rpc_pool\",\"swim\":{\"disabled\":0,\"period_length_ms\":1000,\"subgroup_member_count\":0,\"suspect_timeout_periods\":3}}]}'"
      ]
     },
     "execution_count": 16,
     "metadata": {},
     "output_type": "execute_result"
    }
   ],
   "source": [
    "address = None # replace this\n",
    "client = bedrock.client.Client('na+sm')\n",
    "service_handle = client.create_service_handle(address)\n",
    "service_handle.get_config()"
   ]
  },
  {
   "cell_type": "code",
   "execution_count": null,
   "metadata": {},
   "outputs": [],
   "source": []
  }
 ],
 "metadata": {
  "kernelspec": {
   "display_name": "Python 3",
   "language": "python",
   "name": "python3"
  },
  "language_info": {
   "codemirror_mode": {
    "name": "ipython",
    "version": 3
   },
   "file_extension": ".py",
   "mimetype": "text/x-python",
   "name": "python",
   "nbconvert_exporter": "python",
   "pygments_lexer": "ipython3",
   "version": "3.7.4"
  }
 },
 "nbformat": 4,
 "nbformat_minor": 4
}
