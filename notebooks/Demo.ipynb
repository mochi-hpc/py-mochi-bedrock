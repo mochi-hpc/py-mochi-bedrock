{
 "cells": [
  {
   "cell_type": "markdown",
   "metadata": {},
   "source": [
    "# Bedrock Python Demo"
   ]
  },
  {
   "cell_type": "markdown",
   "metadata": {},
   "source": [
    "The following is a demo of the Bedrock python package, used to ease the configuration of a Bedrock deployment using Python."
   ]
  },
  {
   "cell_type": "code",
   "execution_count": 1,
   "metadata": {},
   "outputs": [],
   "source": [
    "import sys\n",
    "sys.path.append('/projects/mochi/py-bedrock') # use the local source of py-mochi-bedrock"
   ]
  },
  {
   "cell_type": "markdown",
   "metadata": {},
   "source": [
    "## Getting started"
   ]
  },
  {
   "cell_type": "markdown",
   "metadata": {},
   "source": [
    "The root of a Bedrock configuration is a `ProcSpec`, defined in the `bedrock.spec` package. It defines everything we want to run on a process."
   ]
  },
  {
   "cell_type": "code",
   "execution_count": 2,
   "metadata": {},
   "outputs": [],
   "source": [
    "import bedrock.spec"
   ]
  },
  {
   "cell_type": "markdown",
   "metadata": {},
   "source": [
    "We can create a `ProcSpec` using a single `margo` key specifying the protocol we want to use."
   ]
  },
  {
   "cell_type": "code",
   "execution_count": 3,
   "metadata": {},
   "outputs": [],
   "source": [
    "my_process = bedrock.spec.ProcSpec(margo='na+sm')"
   ]
  },
  {
   "cell_type": "markdown",
   "metadata": {},
   "source": [
    "All the specification objects have a `to_json()` method to generate their JSON configuration. Let's look at our `proc`'s configuration:"
   ]
  },
  {
   "cell_type": "code",
   "execution_count": 4,
   "metadata": {},
   "outputs": [
    {
     "name": "stdout",
     "output_type": "stream",
     "text": [
      "{\n",
      "    \"margo\": {\n",
      "        \"progress_timeout_ub_msec\": 100,\n",
      "        \"enable_profiling\": false,\n",
      "        \"enable_diagnostics\": false,\n",
      "        \"handle_cache_size\": 32,\n",
      "        \"profile_sparkline_timeslice_msec\": 1000,\n",
      "        \"argobots\": {\n",
      "            \"abt_mem_max_num_stacks\": 8,\n",
      "            \"abt_thread_stacksize\": 2097152,\n",
      "            \"version\": \"unknown\",\n",
      "            \"pools\": [\n",
      "                {\n",
      "                    \"name\": \"__primary__\",\n",
      "                    \"kind\": \"fifo_wait\",\n",
      "                    \"access\": \"mpmc\"\n",
      "                }\n",
      "            ],\n",
      "            \"xstreams\": [\n",
      "                {\n",
      "                    \"name\": \"__primary__\",\n",
      "                    \"cpubind\": -1,\n",
      "                    \"affinity\": [],\n",
      "                    \"scheduler\": {\n",
      "                        \"type\": \"basic_wait\",\n",
      "                        \"pools\": [\n",
      "                            \"__primary__\"\n",
      "                        ]\n",
      "                    }\n",
      "                }\n",
      "            ]\n",
      "        },\n",
      "        \"mercury\": {\n",
      "            \"address\": \"na+sm\",\n",
      "            \"listening\": true,\n",
      "            \"ip_subnet\": \"\",\n",
      "            \"auth_key\": \"\",\n",
      "            \"auto_sm\": false,\n",
      "            \"max_contexts\": 1,\n",
      "            \"na_no_block\": false,\n",
      "            \"na_no_retry\": false,\n",
      "            \"no_bulk_eager\": false,\n",
      "            \"no_loopback\": false,\n",
      "            \"request_post_incr\": 256,\n",
      "            \"request_post_init\": 256,\n",
      "            \"stats\": false,\n",
      "            \"version\": \"unknown\"\n",
      "        },\n",
      "        \"progress_pool\": \"__primary__\",\n",
      "        \"rpc_pool\": \"__primary__\"\n",
      "    },\n",
      "    \"abt_io\": [],\n",
      "    \"ssg\": []\n",
      "}\n"
     ]
    }
   ],
   "source": [
    "print(my_process.to_json(indent=4))"
   ]
  },
  {
   "cell_type": "markdown",
   "metadata": {},
   "source": [
    "Py-bedrock gives us a very simple way of accessing sub-configurations. Objects that have a name can be accessed using their name or their index in the list that contains them. For example, accessing Argobots' primary pool:"
   ]
  },
  {
   "cell_type": "code",
   "execution_count": 5,
   "metadata": {},
   "outputs": [
    {
     "name": "stdout",
     "output_type": "stream",
     "text": [
      "PoolSpec(name='__primary__', kind='fifo_wait', access='mpmc')\n",
      "PoolSpec(name='__primary__', kind='fifo_wait', access='mpmc')\n"
     ]
    }
   ],
   "source": [
    "print(my_process.margo.argobots.pools['__primary__'])\n",
    "print(my_process.margo.argobots.pools[0])"
   ]
  },
  {
   "cell_type": "markdown",
   "metadata": {},
   "source": [
    "Let's customize our process a little more. What about defining a pool for RPCs to run on, along with a few execution streams using that pool?"
   ]
  },
  {
   "cell_type": "code",
   "execution_count": 6,
   "metadata": {},
   "outputs": [],
   "source": [
    "# Create the new pool, it will be added automatically to the process\n",
    "my_rpc_pool = my_process.margo.argobots.pools.add(name='my_rpc_pool', kind='fifo', access='mpmc')\n",
    "# Create two execution streams using that pool\n",
    "for i in range(0,4):\n",
    "    sched = bedrock.spec.SchedulerSpec(type='basic', pools=[my_rpc_pool])\n",
    "    my_process.margo.argobots.xstreams.add(name=f'my_xstream_{i}', scheduler=sched)\n",
    "# Now let's set the pools we want for handling RPCs\n",
    "my_process.margo.rpc_pool = my_rpc_pool"
   ]
  },
  {
   "cell_type": "markdown",
   "metadata": {},
   "source": [
    "Let's now print the resulting configuration:"
   ]
  },
  {
   "cell_type": "code",
   "execution_count": 7,
   "metadata": {},
   "outputs": [
    {
     "name": "stdout",
     "output_type": "stream",
     "text": [
      "{\n",
      "    \"margo\": {\n",
      "        \"progress_timeout_ub_msec\": 100,\n",
      "        \"enable_profiling\": false,\n",
      "        \"enable_diagnostics\": false,\n",
      "        \"handle_cache_size\": 32,\n",
      "        \"profile_sparkline_timeslice_msec\": 1000,\n",
      "        \"argobots\": {\n",
      "            \"abt_mem_max_num_stacks\": 8,\n",
      "            \"abt_thread_stacksize\": 2097152,\n",
      "            \"version\": \"unknown\",\n",
      "            \"pools\": [\n",
      "                {\n",
      "                    \"name\": \"__primary__\",\n",
      "                    \"kind\": \"fifo_wait\",\n",
      "                    \"access\": \"mpmc\"\n",
      "                },\n",
      "                {\n",
      "                    \"name\": \"my_rpc_pool\",\n",
      "                    \"kind\": \"fifo\",\n",
      "                    \"access\": \"mpmc\"\n",
      "                }\n",
      "            ],\n",
      "            \"xstreams\": [\n",
      "                {\n",
      "                    \"name\": \"__primary__\",\n",
      "                    \"cpubind\": -1,\n",
      "                    \"affinity\": [],\n",
      "                    \"scheduler\": {\n",
      "                        \"type\": \"basic_wait\",\n",
      "                        \"pools\": [\n",
      "                            \"__primary__\"\n",
      "                        ]\n",
      "                    }\n",
      "                },\n",
      "                {\n",
      "                    \"name\": \"my_xstream_0\",\n",
      "                    \"cpubind\": -1,\n",
      "                    \"affinity\": [],\n",
      "                    \"scheduler\": {\n",
      "                        \"type\": \"basic\",\n",
      "                        \"pools\": [\n",
      "                            \"my_rpc_pool\"\n",
      "                        ]\n",
      "                    }\n",
      "                },\n",
      "                {\n",
      "                    \"name\": \"my_xstream_1\",\n",
      "                    \"cpubind\": -1,\n",
      "                    \"affinity\": [],\n",
      "                    \"scheduler\": {\n",
      "                        \"type\": \"basic\",\n",
      "                        \"pools\": [\n",
      "                            \"my_rpc_pool\"\n",
      "                        ]\n",
      "                    }\n",
      "                },\n",
      "                {\n",
      "                    \"name\": \"my_xstream_2\",\n",
      "                    \"cpubind\": -1,\n",
      "                    \"affinity\": [],\n",
      "                    \"scheduler\": {\n",
      "                        \"type\": \"basic\",\n",
      "                        \"pools\": [\n",
      "                            \"my_rpc_pool\"\n",
      "                        ]\n",
      "                    }\n",
      "                },\n",
      "                {\n",
      "                    \"name\": \"my_xstream_3\",\n",
      "                    \"cpubind\": -1,\n",
      "                    \"affinity\": [],\n",
      "                    \"scheduler\": {\n",
      "                        \"type\": \"basic\",\n",
      "                        \"pools\": [\n",
      "                            \"my_rpc_pool\"\n",
      "                        ]\n",
      "                    }\n",
      "                }\n",
      "            ]\n",
      "        },\n",
      "        \"mercury\": {\n",
      "            \"address\": \"na+sm\",\n",
      "            \"listening\": true,\n",
      "            \"ip_subnet\": \"\",\n",
      "            \"auth_key\": \"\",\n",
      "            \"auto_sm\": false,\n",
      "            \"max_contexts\": 1,\n",
      "            \"na_no_block\": false,\n",
      "            \"na_no_retry\": false,\n",
      "            \"no_bulk_eager\": false,\n",
      "            \"no_loopback\": false,\n",
      "            \"request_post_incr\": 256,\n",
      "            \"request_post_init\": 256,\n",
      "            \"stats\": false,\n",
      "            \"version\": \"unknown\"\n",
      "        },\n",
      "        \"progress_pool\": \"__primary__\",\n",
      "        \"rpc_pool\": \"my_rpc_pool\"\n",
      "    },\n",
      "    \"abt_io\": [],\n",
      "    \"ssg\": []\n",
      "}\n"
     ]
    }
   ],
   "source": [
    "print(my_process.to_json(indent=4))"
   ]
  },
  {
   "cell_type": "markdown",
   "metadata": {},
   "source": [
    "## Adding ABT-IO instances\n",
    "\n",
    "Let's add an ABT-IO instance."
   ]
  },
  {
   "cell_type": "code",
   "execution_count": 8,
   "metadata": {},
   "outputs": [
    {
     "data": {
      "text/plain": [
       "AbtIOSpec(name='my_abtio', pool=PoolSpec(name='my_rpc_pool', kind='fifo', access='mpmc'))"
      ]
     },
     "execution_count": 8,
     "metadata": {},
     "output_type": "execute_result"
    }
   ],
   "source": [
    "my_process.abt_io.add(name='my_abtio', pool=my_rpc_pool)"
   ]
  },
  {
   "cell_type": "markdown",
   "metadata": {},
   "source": [
    "## Adding SSG groups\n",
    "Let's add an SSG group."
   ]
  },
  {
   "cell_type": "code",
   "execution_count": 9,
   "metadata": {},
   "outputs": [
    {
     "data": {
      "text/plain": [
       "SSGSpec(name='my_group', pool=PoolSpec(name='my_rpc_pool', kind='fifo', access='mpmc'), credential=-1, bootstrap='init', group_file='my_group.ssg', swim=SwimSpec(period_length_ms=1000, suspect_timeout_periods=3, subgroup_member_count=0, disabled=False))"
      ]
     },
     "execution_count": 9,
     "metadata": {},
     "output_type": "execute_result"
    }
   ],
   "source": [
    "swim_config = bedrock.spec.SwimSpec(\n",
    "    period_length_ms=1000,\n",
    "    suspect_timeout_periods=3,\n",
    "    subgroup_member_count=0,\n",
    "    disabled=False)\n",
    "\n",
    "my_process.ssg.add(name='my_group',\n",
    "                   swim=swim_config,\n",
    "                   bootstrap='init',\n",
    "                   group_file='my_group.ssg',\n",
    "                   pool=my_rpc_pool)"
   ]
  },
  {
   "cell_type": "code",
   "execution_count": 10,
   "metadata": {},
   "outputs": [
    {
     "name": "stdout",
     "output_type": "stream",
     "text": [
      "{\n",
      "    \"margo\": {\n",
      "        \"progress_timeout_ub_msec\": 100,\n",
      "        \"enable_profiling\": false,\n",
      "        \"enable_diagnostics\": false,\n",
      "        \"handle_cache_size\": 32,\n",
      "        \"profile_sparkline_timeslice_msec\": 1000,\n",
      "        \"argobots\": {\n",
      "            \"abt_mem_max_num_stacks\": 8,\n",
      "            \"abt_thread_stacksize\": 2097152,\n",
      "            \"version\": \"unknown\",\n",
      "            \"pools\": [\n",
      "                {\n",
      "                    \"name\": \"__primary__\",\n",
      "                    \"kind\": \"fifo_wait\",\n",
      "                    \"access\": \"mpmc\"\n",
      "                },\n",
      "                {\n",
      "                    \"name\": \"my_rpc_pool\",\n",
      "                    \"kind\": \"fifo\",\n",
      "                    \"access\": \"mpmc\"\n",
      "                }\n",
      "            ],\n",
      "            \"xstreams\": [\n",
      "                {\n",
      "                    \"name\": \"__primary__\",\n",
      "                    \"cpubind\": -1,\n",
      "                    \"affinity\": [],\n",
      "                    \"scheduler\": {\n",
      "                        \"type\": \"basic_wait\",\n",
      "                        \"pools\": [\n",
      "                            \"__primary__\"\n",
      "                        ]\n",
      "                    }\n",
      "                },\n",
      "                {\n",
      "                    \"name\": \"my_xstream_0\",\n",
      "                    \"cpubind\": -1,\n",
      "                    \"affinity\": [],\n",
      "                    \"scheduler\": {\n",
      "                        \"type\": \"basic\",\n",
      "                        \"pools\": [\n",
      "                            \"my_rpc_pool\"\n",
      "                        ]\n",
      "                    }\n",
      "                },\n",
      "                {\n",
      "                    \"name\": \"my_xstream_1\",\n",
      "                    \"cpubind\": -1,\n",
      "                    \"affinity\": [],\n",
      "                    \"scheduler\": {\n",
      "                        \"type\": \"basic\",\n",
      "                        \"pools\": [\n",
      "                            \"my_rpc_pool\"\n",
      "                        ]\n",
      "                    }\n",
      "                },\n",
      "                {\n",
      "                    \"name\": \"my_xstream_2\",\n",
      "                    \"cpubind\": -1,\n",
      "                    \"affinity\": [],\n",
      "                    \"scheduler\": {\n",
      "                        \"type\": \"basic\",\n",
      "                        \"pools\": [\n",
      "                            \"my_rpc_pool\"\n",
      "                        ]\n",
      "                    }\n",
      "                },\n",
      "                {\n",
      "                    \"name\": \"my_xstream_3\",\n",
      "                    \"cpubind\": -1,\n",
      "                    \"affinity\": [],\n",
      "                    \"scheduler\": {\n",
      "                        \"type\": \"basic\",\n",
      "                        \"pools\": [\n",
      "                            \"my_rpc_pool\"\n",
      "                        ]\n",
      "                    }\n",
      "                }\n",
      "            ]\n",
      "        },\n",
      "        \"mercury\": {\n",
      "            \"address\": \"na+sm\",\n",
      "            \"listening\": true,\n",
      "            \"ip_subnet\": \"\",\n",
      "            \"auth_key\": \"\",\n",
      "            \"auto_sm\": false,\n",
      "            \"max_contexts\": 1,\n",
      "            \"na_no_block\": false,\n",
      "            \"na_no_retry\": false,\n",
      "            \"no_bulk_eager\": false,\n",
      "            \"no_loopback\": false,\n",
      "            \"request_post_incr\": 256,\n",
      "            \"request_post_init\": 256,\n",
      "            \"stats\": false,\n",
      "            \"version\": \"unknown\"\n",
      "        },\n",
      "        \"progress_pool\": \"__primary__\",\n",
      "        \"rpc_pool\": \"my_rpc_pool\"\n",
      "    },\n",
      "    \"abt_io\": [\n",
      "        {\n",
      "            \"name\": \"my_abtio\",\n",
      "            \"pool\": \"my_rpc_pool\"\n",
      "        }\n",
      "    ],\n",
      "    \"ssg\": [\n",
      "        {\n",
      "            \"name\": \"my_group\",\n",
      "            \"pool\": \"my_rpc_pool\",\n",
      "            \"credential\": -1,\n",
      "            \"bootstrap\": \"init\",\n",
      "            \"group_file\": \"my_group.ssg\",\n",
      "            \"swim\": {\n",
      "                \"period_length_ms\": 1000,\n",
      "                \"suspect_timeout_periods\": 3,\n",
      "                \"subgroup_member_count\": 0,\n",
      "                \"disabled\": false\n",
      "            }\n",
      "        }\n",
      "    ]\n",
      "}\n"
     ]
    }
   ],
   "source": [
    "print(my_process.to_json(indent=4))"
   ]
  },
  {
   "cell_type": "markdown",
   "metadata": {},
   "source": [
    "## Adding providers"
   ]
  },
  {
   "cell_type": "code",
   "execution_count": null,
   "metadata": {},
   "outputs": [],
   "source": []
  }
 ],
 "metadata": {
  "kernelspec": {
   "display_name": "Python 3",
   "language": "python",
   "name": "python3"
  },
  "language_info": {
   "codemirror_mode": {
    "name": "ipython",
    "version": 3
   },
   "file_extension": ".py",
   "mimetype": "text/x-python",
   "name": "python",
   "nbconvert_exporter": "python",
   "pygments_lexer": "ipython3",
   "version": "3.7.4"
  }
 },
 "nbformat": 4,
 "nbformat_minor": 4
}
